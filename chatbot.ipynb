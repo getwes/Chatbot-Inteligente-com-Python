{
 "cells": [
  {
   "cell_type": "markdown",
   "id": "30ddb390",
   "metadata": {},
   "source": [
    "Criando um chatbot Inteligente\n"
   ]
  },
  {
   "cell_type": "code",
   "execution_count": 25,
   "id": "6b86e97f",
   "metadata": {},
   "outputs": [
    {
     "name": "stdout",
     "output_type": "stream",
     "text": [
      "✔ Download and installation successful\n",
      "You can now load the package via spacy.load('en_core_web_sm')\n"
     ]
    }
   ],
   "source": [
    "from chatterbot import ChatBot\n",
    "from chatterbot.trainers import ListTrainer\n",
    "#isso aqui é necessario para corrigir o erro\n",
    "from spacy.cli import download\n",
    "download(\"en_core_web_sm\")\n",
    "\n",
    "class ENGSM:\n",
    "    ISO_639_1 = 'en_core_web_sm'\n"
   ]
  },
  {
   "cell_type": "code",
   "execution_count": null,
   "id": "33e6d913",
   "metadata": {},
   "outputs": [],
   "source": [
    "chatbot = ChatBot(\"wesleyzin\", tagger_language=ENGSM)\n",
    "\n",
    "conversa = [\n",
    "    \"coe\",\n",
    "    \"eai, tranquilo?\"\n",
    "    \"tranquilo\",\n",
    "    \"qual é a boa de hoje?\",\n",
    "    \"mano to fazendo um chatbot monstrão em python\",\n",
    "    \"caraca que doidera\",\n",
    "    \"maneiro né\",\n",
    "    \"irando\"\n",
    "]\n",
    "\n",
    "trainer = ListTrainer(chatbot)\n"
   ]
  }
 ],
 "metadata": {
  "kernelspec": {
   "display_name": "Python 3 (ipykernel)",
   "language": "python",
   "name": "python3"
  },
  "language_info": {
   "codemirror_mode": {
    "name": "ipython",
    "version": 3
   },
   "file_extension": ".py",
   "mimetype": "text/x-python",
   "name": "python",
   "nbconvert_exporter": "python",
   "pygments_lexer": "ipython3",
   "version": "3.6.13"
  }
 },
 "nbformat": 4,
 "nbformat_minor": 5
}
