{
 "cells": [
  {
   "cell_type": "markdown",
   "id": "30ddb390",
   "metadata": {},
   "source": [
    "Criando um chatbot Inteligente\n"
   ]
  },
  {
   "cell_type": "code",
   "execution_count": null,
   "id": "6b86e97f",
   "metadata": {},
   "outputs": [],
   "source": [
    "from chatterbot import chatB"
   ]
  }
 ],
 "metadata": {
  "kernelspec": {
   "display_name": "Python 3 (ipykernel)",
   "language": "python",
   "name": "python3"
  },
  "language_info": {
   "codemirror_mode": {
    "name": "ipython",
    "version": 3
   },
   "file_extension": ".py",
   "mimetype": "text/x-python",
   "name": "python",
   "nbconvert_exporter": "python",
   "pygments_lexer": "ipython3",
   "version": "3.6.13"
  }
 },
 "nbformat": 4,
 "nbformat_minor": 5
}
